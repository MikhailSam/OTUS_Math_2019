{
 "cells": [
  {
   "cell_type": "code",
   "execution_count": 8,
   "metadata": {},
   "outputs": [],
   "source": [
    "import numpy as np\n",
    "from numba import njit, prange\n",
    "from time import perf_counter"
   ]
  },
  {
   "cell_type": "code",
   "execution_count": 14,
   "metadata": {},
   "outputs": [],
   "source": [
    "def pi_mc(n):\n",
    "    x = np.random.rand(n)\n",
    "    y = np.random.rand(n)\n",
    "    r = x**2 + y**2\n",
    "    inner = (r < 1).sum()\n",
    "    return inner/n * 4\n",
    "\n",
    "#@njit(parallel=True, fastmath=True)\n",
    "def pi_mc_slow(n):\n",
    "    \"\"\"\n",
    "    Really slow but less memory consumption\n",
    "    \"\"\"\n",
    "    inner = 0\n",
    "    for num in prange(n):\n",
    "        x = np.random.rand(1)\n",
    "        y = np.random.rand(1)\n",
    "        r = x**2 + y**2\n",
    "        value = 1 if r < 1 else 0\n",
    "        inner += value\n",
    "    return inner/n * 4"
   ]
  },
  {
   "cell_type": "code",
   "execution_count": 6,
   "metadata": {},
   "outputs": [
    {
     "name": "stdout",
     "output_type": "stream",
     "text": [
      "N =        100 pi = 3.280000 error =  -0.138407 time = 0.00 sec\n",
      "N =       1000 pi = 3.108000 error =  0.033593 time = 0.00 sec\n",
      "N =      10000 pi = 3.128800 error =  0.012793 time = 0.00 sec\n",
      "N =     100000 pi = 3.138360 error =  0.003233 time = 0.00 sec\n",
      "N =    1000000 pi = 3.138980 error =  0.002613 time = 0.03 sec\n",
      "N =   10000000 pi = 3.141840 error =  -0.000247 time = 0.27 sec\n",
      "N =  100000000 pi = 3.141476 error =  0.000116 time = 2.55 sec\n"
     ]
    }
   ],
   "source": [
    "max_e = 9\n",
    "ns = np.logspace(2,max_e,num=max_e-2, endpoint=False)\n",
    "for n in ns:\n",
    "    start = perf_counter()\n",
    "    pi = pi_mc(int(n))\n",
    "    print(f'N = {int(n):10d} pi = {pi:.6f} error =  {np.pi - pi:.6f} time = {perf_counter() - start:.2f} sec')\n",
    "    "
   ]
  },
  {
   "cell_type": "code",
   "execution_count": 7,
   "metadata": {},
   "outputs": [
    {
     "name": "stdout",
     "output_type": "stream",
     "text": [
      "N =        100 pi = 3.160000 error =  -0.018407 time = 0.00 sec\n",
      "N =       1000 pi = 3.056000 error =  0.085593 time = 0.04 sec\n",
      "N =      10000 pi = 3.117600 error =  0.023993 time = 0.09 sec\n",
      "N =     100000 pi = 3.146680 error =  -0.005087 time = 0.59 sec\n",
      "N =    1000000 pi = 3.141764 error =  -0.000171 time = 5.95 sec\n",
      "N =   10000000 pi = 3.141057 error =  0.000535 time = 59.32 sec\n"
     ]
    }
   ],
   "source": [
    "# слишком долго считает\n",
    "max_e = 8\n",
    "ns = np.logspace(2,max_e,num=max_e-2, endpoint=False)\n",
    "for n in ns:\n",
    "    start = perf_counter()\n",
    "    pi = pi_mc_slow(int(n))\n",
    "    print(f'N = {int(n):10d} pi = {pi:.6f} error =  {np.pi - pi:.6f} time = {perf_counter() - start:.2f} sec')"
   ]
  },
  {
   "cell_type": "markdown",
   "metadata": {},
   "source": [
    "Метод работает, но очень затретан либо по памяти, либо по времени работы. "
   ]
  },
  {
   "cell_type": "code",
   "execution_count": null,
   "metadata": {},
   "outputs": [],
   "source": []
  }
 ],
 "metadata": {
  "kernelspec": {
   "display_name": "tf2",
   "language": "python",
   "name": "tf2"
  },
  "language_info": {
   "codemirror_mode": {
    "name": "ipython",
    "version": 3
   },
   "file_extension": ".py",
   "mimetype": "text/x-python",
   "name": "python",
   "nbconvert_exporter": "python",
   "pygments_lexer": "ipython3",
   "version": "3.7.3"
  }
 },
 "nbformat": 4,
 "nbformat_minor": 2
}
