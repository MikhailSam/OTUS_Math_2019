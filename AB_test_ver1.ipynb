{
 "cells": [
  {
   "cell_type": "code",
   "execution_count": 2,
   "metadata": {},
   "outputs": [],
   "source": [
    "import numpy as np\n",
    "import pandas as pd\n",
    "from scipy.stats import norm\n",
    "from matplotlib import pyplot as plt\n",
    "%matplotlib inline"
   ]
  },
  {
   "cell_type": "code",
   "execution_count": 94,
   "metadata": {},
   "outputs": [],
   "source": [
    "def rank(df:pd.DataFrame, data_field=\"data\", rank_field=\"rank\"):\n",
    "    rank = []\n",
    "    uvalues = np.sort(df[data_field].unique())\n",
    "    for el in uvalues:\n",
    "        indexes = np.where(df[data_field] == el)[0] + 1\n",
    "        m_rank = np.mean(indexes)\n",
    "        rank.extend([m_rank]*len(indexes))\n",
    "    df[rank_field] = rank\n",
    "    return df\n",
    "\n",
    "def calculate_mode(alpha, T, mode):\n",
    "    if mode == \"ne\":\n",
    "        t_alpha_l = norm.ppf(alpha/2)\n",
    "        t_alpha_r = norm.ppf(1 - alpha/2)\n",
    "        p_value = min(2*norm.cdf(T),2 - 2*norm.cdf(T))\n",
    "        \n",
    "        if T > t_alpha_l and T < t_alpha_r:\n",
    "            # лежит внутри диаазона\n",
    "            return True, p_value, T\n",
    "    elif mode == \"gt\":\n",
    "        t_alpha = norm.ppf(1 - alpha)\n",
    "        p_value = 1 - norm.cdf(T)\n",
    "        if T < t_alpha:\n",
    "            return True, p_value, T\n",
    "        else:\n",
    "            return False, p_value, T\n",
    "        \n",
    "    elif mode == \"lt\":\n",
    "        t_alpha = norm.ppf(alpha)\n",
    "        p_value = norm.cdf(T)\n",
    "        if T > t_alpha:\n",
    "            return True, p_value, T\n",
    "        else:\n",
    "            return False, p_value, T\n",
    "    else:\n",
    "        print('Wrong mode!')\n",
    "        return None\n",
    "    \n",
    "def check_hypothesis(data, mode, alpha=0.05):\n",
    "    \"\"\"\n",
    "    Проверка гипотезы\n",
    "    \n",
    "    data - словарь с результатами двух экспериментов\n",
    "    alpha - уровень значимости\n",
    "    mode - тип гипотезы Н1:\n",
    "        \"ne\" - not equal - гипотеза о неравенстве\n",
    "        \"gt\" - greater than\n",
    "        \"lt\" - less than\n",
    "        \n",
    "    Возвращает\n",
    "        True/False - принимаем гипотезу или нет\n",
    "        p_value\n",
    "        T\n",
    "    \"\"\"\n",
    "    n1_l = data['n11'] + data['n21']\n",
    "    n1_r = data['n11'] + data['n12']\n",
    "    n2_l = data['n12'] + data['n22']\n",
    "    n2_r = data['n21'] + data['n22']\n",
    "    n = n1_r + n2_r\n",
    "    \n",
    "    T = (data[\"n11\"]/n1_r - data[\"n12\"]/n2_r) / np.sqrt( n1_l/n * (1 - n1_l/n) * (1/n1_r + 1/n2_r))\n",
    "    \n",
    "    return calculate_mode(alpha, T, mode)\n",
    "    \n",
    "def check_hypothesis_means(data1: pd.DataFrame, data2:pd.DataFrame, mode, alpha=0.05):\n",
    "    \"\"\"\n",
    "    Проверка гипотезы\n",
    "    \n",
    "    data1 - массив с результатами 1го эксперимента\n",
    "    data2 - массив с результатами 2го эксперимента\n",
    "    alpha - уровень значимости\n",
    "    mode - тип гипотезы Н1:\n",
    "        \"ne\" - not equal - гипотеза о неравенстве\n",
    "        \"gt\" - greater than\n",
    "        \"lt\" - less than\n",
    "        \n",
    "    Возвращает\n",
    "        True/False - принимаем гипотезу или нет\n",
    "        p_value\n",
    "        T\n",
    "    \"\"\"\n",
    "    data1[\"label\"] = \"1\"\n",
    "    data2[\"label\"] = \"2\"\n",
    "    m = data1.shape[0]\n",
    "    n = data2.shape[0]\n",
    "    total_df = data1.append(data2)\n",
    "    total_df.sort_values(by=\"data\", inplace=True)\n",
    "    total_df.reset_index(inplace=True, drop=True)\n",
    "    total_df = rank(total_df)\n",
    "    \n",
    "    W = sum(total_df[total_df[\"label\"] == \"2\"][\"rank\"])\n",
    "    M = n/2 * (m + n + 1)\n",
    "    D = n*m/12 * (m + n + 1)\n",
    "    W = (W - M) / np.sqrt(D)\n",
    "    return calculate_mode(alpha, W, mode)\n",
    "        "
   ]
  },
  {
   "cell_type": "code",
   "execution_count": 57,
   "metadata": {},
   "outputs": [
    {
     "name": "stdout",
     "output_type": "stream",
     "text": [
      "Принимаем гипотезу: True\n",
      "p-value: 0.185\n",
      "статистика: 1.327\n"
     ]
    }
   ],
   "source": [
    "# Задача 1\n",
    "data = {}\n",
    "data[\"n11\"] = 42\n",
    "data[\"n12\"] = 105 - 42\n",
    "data[\"n21\"] = 65\n",
    "data[\"n22\"] = 195 - 65\n",
    "\n",
    "result = check_hypothesis(data, mode = \"ne\")\n",
    "print(\"Принимаем гипотезу:\", result[0])\n",
    "print(f\"p-value: {result[1]:.3f}\")\n",
    "print(f\"статистика: {result[2]:.3f}\")"
   ]
  },
  {
   "cell_type": "code",
   "execution_count": 58,
   "metadata": {},
   "outputs": [
    {
     "name": "stdout",
     "output_type": "stream",
     "text": [
      "Принимаем гипотезу: False\n",
      "p-value: 0.000\n",
      "статистика: 32.143\n"
     ]
    }
   ],
   "source": [
    "# Задача 2\n",
    "data = {}\n",
    "data[\"n11\"] = 172\n",
    "data[\"n12\"] = 3\n",
    "data[\"n21\"] = 168\n",
    "data[\"n22\"] = 32\n",
    "\n",
    "result = check_hypothesis(data, mode = \"gt\")\n",
    "print(\"Принимаем гипотезу:\", result[0])\n",
    "print(f\"p-value: {result[1]:.3f}\")\n",
    "print(f\"статистика: {result[2]:.3f}\")"
   ]
  },
  {
   "cell_type": "code",
   "execution_count": 95,
   "metadata": {},
   "outputs": [
    {
     "name": "stdout",
     "output_type": "stream",
     "text": [
      "Принимаем гипотезу: True\n",
      "p-value: 0.628\n",
      "статистика: -0.327\n"
     ]
    }
   ],
   "source": [
    "# Задача 3\n",
    "data1 = pd.DataFrame({\"data\":[130, 110, 120, 140, 200, 130, 140, 170, 160, 140]})\n",
    "data2 = pd.DataFrame({\"data\":[120, 190, 130, 160, 150, 120, 110, 120, 200]})\n",
    "\n",
    "result = check_hypothesis_means(data1,data2,mode = \"gt\")\n",
    "print(\"Принимаем гипотезу:\", result[0])\n",
    "print(f\"p-value: {result[1]:.3f}\")\n",
    "print(f\"статистика: {result[2]:.3f}\")"
   ]
  },
  {
   "cell_type": "code",
   "execution_count": 96,
   "metadata": {},
   "outputs": [
    {
     "name": "stdout",
     "output_type": "stream",
     "text": [
      "Принимаем гипотезу: True\n",
      "p-value: 0.283\n",
      "статистика: -1.073\n"
     ]
    }
   ],
   "source": [
    "# Задача 4\n",
    "data1 = pd.DataFrame({\"data\":[102.4, 100.0, 67.6, 65.9, 64.7, 39.6, 31.2]})\n",
    "data2 = pd.DataFrame({\"data\":[48.1, 45.5, 41.7, 35.4, 29.1, 18.9, 58.3, 68.8, 71.3, 94.3]})\n",
    "\n",
    "result = check_hypothesis_means(data1,data2,mode = \"ne\")\n",
    "print(\"Принимаем гипотезу:\", result[0])\n",
    "print(f\"p-value: {result[1]:.3f}\")\n",
    "print(f\"статистика: {result[2]:.3f}\")"
   ]
  },
  {
   "cell_type": "code",
   "execution_count": null,
   "metadata": {},
   "outputs": [],
   "source": []
  }
 ],
 "metadata": {
  "kernelspec": {
   "display_name": "tf2",
   "language": "python",
   "name": "tf2"
  },
  "language_info": {
   "codemirror_mode": {
    "name": "ipython",
    "version": 3
   },
   "file_extension": ".py",
   "mimetype": "text/x-python",
   "name": "python",
   "nbconvert_exporter": "python",
   "pygments_lexer": "ipython3",
   "version": "3.7.3"
  }
 },
 "nbformat": 4,
 "nbformat_minor": 2
}
